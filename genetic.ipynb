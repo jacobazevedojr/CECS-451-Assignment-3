{
  "nbformat": 4,
  "nbformat_minor": 0,
  "metadata": {
    "colab": {
      "name": "genetic.ipynb",
      "provenance": [],
      "collapsed_sections": [],
      "authorship_tag": "ABX9TyNCjKk85zkXnHGXinoSRpby",
      "include_colab_link": true
    },
    "kernelspec": {
      "name": "python3",
      "display_name": "Python 3"
    }
  },
  "cells": [
    {
      "cell_type": "markdown",
      "metadata": {
        "id": "view-in-github",
        "colab_type": "text"
      },
      "source": [
        "<a href=\"https://colab.research.google.com/github/jacobazevedojr/CECS-451-Assignment-3/blob/main/genetic.ipynb\" target=\"_parent\"><img src=\"https://colab.research.google.com/assets/colab-badge.svg\" alt=\"Open In Colab\"/></a>"
      ]
    },
    {
      "cell_type": "code",
      "metadata": {
        "id": "ma3t42VyzNhi"
      },
      "source": [
        "# Genetic Algorithms (Local Search)\r\n",
        "\r\n",
        "# Implement a program that performs the Genetic algorithm with 8\r\n",
        "# states including the three operations, i.e., selection, crossover, mutation \r\n",
        "# to find a solution.\r\n",
        "\r\n",
        "from board import Board\r\n",
        "import numpy as np\r\n",
        "import random\r\n",
        "import time"
      ],
      "execution_count": 1075,
      "outputs": []
    },
    {
      "cell_type": "code",
      "metadata": {
        "id": "bcoMaRR38AJw"
      },
      "source": [
        "# Driver\r\n",
        "\r\n",
        "def start(k, n):\r\n",
        "  tries = 0\r\n",
        "  restarts = 0\r\n",
        "  # Initialize k random states of n X n boards\r\n",
        "  states = []\r\n",
        "  for i in range(k):\r\n",
        "    states.append(Board(n))\r\n",
        "\r\n",
        "  noSolution = True\r\n",
        "  while noSolution:\r\n",
        "    # Initializes fitness values for all state\r\n",
        "    # if tries == 1:\r\n",
        "    #   print(\"Initial States\")\r\n",
        "    #   for i, val in enumerate(states):\r\n",
        "    #     val.fitness()\r\n",
        "    #     print(val.map, \"Fitness: \", val.fit)        \r\n",
        "    #     print()\r\n",
        "\r\n",
        "    parents = selection(states)\r\n",
        "\r\n",
        "    # if tries == 1:\r\n",
        "    #   print(\"Selected Parents\")\r\n",
        "    #   for i, val in enumerate(parents):\r\n",
        "    #     val.fitness()\r\n",
        "    #     print(val.map, \"Fitness: \", val.fit)\r\n",
        "    #     print()\r\n",
        "\r\n",
        "    newStates = crossover(parents)\r\n",
        "\r\n",
        "    # if tries == 1:\r\n",
        "    #   print(\"Crossover\")\r\n",
        "    #   for i, val in enumerate(newStates):\r\n",
        "    #     val.fitness()\r\n",
        "    #     print(val.map, \"Fitness: \", val.fit)\r\n",
        "    #     print()\r\n",
        "\r\n",
        "    states = mutation(newStates)\r\n",
        "\r\n",
        "    # if tries == 1:\r\n",
        "    #   print(\"Mutation\")\r\n",
        "    #   for i, val in enumerate(states):\r\n",
        "    #     val.fitness()\r\n",
        "    #     print(val.map, \"Fitness: \", val.fit)        \r\n",
        "    #     print()\r\n",
        "\r\n",
        "    tries += 1\r\n",
        "\r\n",
        "    # Comment out this block to prevent random restarts\r\n",
        "    if tries % 100 == 0:\r\n",
        "      restarts += 1\r\n",
        "      for i in range(k):\r\n",
        "        states[i] = Board(n)\r\n",
        "\r\n",
        "    optimalFitness = 0\r\n",
        "    for i, val in enumerate(states):\r\n",
        "      val.fitness()\r\n",
        "      if val.fit == optimalFitness:\r\n",
        "        print(\"Iterations: \", tries)\r\n",
        "        print(\"Restarts: \", restarts)\r\n",
        "        return val"
      ],
      "execution_count": 1076,
      "outputs": []
    },
    {
      "cell_type": "code",
      "metadata": {
        "id": "_UHyfy4L8Fxs"
      },
      "source": [
        "# The more fit a state is, the higher likelihood that it is chosen to mate\r\n",
        "# There is a likelihood of high fitness states \"breeding\" with more than one \r\n",
        "# \"partners\" and low fitness states not breeding at all\r\n",
        "\r\n",
        "# Pass the current k states and return the parents\r\n",
        "\r\n",
        "def selection(states):\r\n",
        "\r\n",
        "  n = states[0].n_queen\r\n",
        "  maxNonAttackingPairs = n * (n-1) // 2\r\n",
        "  for state in states:\r\n",
        "    # Initialize fitness for each state\r\n",
        "    state.fitness()\r\n",
        "\r\n",
        "  # Tracks cumulative weight (for selection)\r\n",
        "  cumulativeWeights = []\r\n",
        "  # Tracks each state's individual weight\r\n",
        "  statesRanges = []\r\n",
        "\r\n",
        "  totalNA = 0\r\n",
        "\r\n",
        "  stateNA = []\r\n",
        "  for i, state in enumerate(states):\r\n",
        "    # Builds the cumulative weight array \r\n",
        "    # Each array adds the curr percent with the last to determine percent range\r\n",
        "    currNonAttacking = maxNonAttackingPairs - states[i].fit\r\n",
        "    totalNA += currNonAttacking\r\n",
        "    stateNA.append(currNonAttacking)\r\n",
        "\r\n",
        "  thisRange = stateNA[0] / totalNA\r\n",
        "  statesRanges.append(thisRange)\r\n",
        "  cumulativeWeights.append(thisRange)\r\n",
        "\r\n",
        "  for i, val in enumerate(stateNA[1:]):\r\n",
        "    thisRange = val / totalNA\r\n",
        "    statesRanges.append(thisRange)\r\n",
        "    cumulativeWeights.append(cumulativeWeights[i] + thisRange)\r\n",
        "\r\n",
        "  parents = []\r\n",
        "  # Use random number generator to choose who \"mates\"\r\n",
        "  for i in range(len(states) // 2):\r\n",
        "    rand1 = random.random()\r\n",
        "    rand2 = random.random()\r\n",
        "    for j, weight in enumerate(cumulativeWeights):\r\n",
        "      # The first time the rand is less than a number, it will fall within that\r\n",
        "      # index range\r\n",
        "      if rand1 <= weight:\r\n",
        "        # The first parent is chosen\r\n",
        "        parents.append(states[j])\r\n",
        "\r\n",
        "        # Remove j from the pool for the second parent\r\n",
        "        newRanges = statesRanges.copy()\r\n",
        "        del newRanges[j]\r\n",
        "\r\n",
        "        # Remove j from the pool in the states array also\r\n",
        "        statesIndices = [x for x in range(len(states))]\r\n",
        "        del statesIndices[j]\r\n",
        "\r\n",
        "        # Find sum of new ranges\r\n",
        "        sum = 0\r\n",
        "        for k, val in enumerate(newRanges):\r\n",
        "          sum += val\r\n",
        "                \r\n",
        "        # Normalize all ranges relative to remaining ranges\r\n",
        "        for w, val1 in enumerate(newRanges):\r\n",
        "          newRanges[w] = val1 / sum\r\n",
        "\r\n",
        "        # Build into cumulative weight list\r\n",
        "        for z, val2 in enumerate(newRanges[1:]):\r\n",
        "          newRanges[z + 1] = newRanges[z] + val2\r\n",
        "\r\n",
        "        # Check where rand2 lands\r\n",
        "        for k, val in enumerate(newRanges):\r\n",
        "          if rand2 <= val:\r\n",
        "            parents.append(states[statesIndices[k]])\r\n",
        "            break\r\n",
        "        break\r\n",
        "        \r\n",
        "  return parents"
      ],
      "execution_count": 1077,
      "outputs": []
    },
    {
      "cell_type": "code",
      "metadata": {
        "id": "E1lutT4a8MLC"
      },
      "source": [
        "# Once the selection of mates has been decided, they must now... do the deed\r\n",
        "\r\n",
        "# Pass the selected parent states (always even) \r\n",
        "# and \"breed\" them, return their children\r\n",
        "def crossover(states):\r\n",
        "  children = []\r\n",
        "\r\n",
        "  for i in range(0, len(states), 2):\r\n",
        "    parent1 = states[i]\r\n",
        "    parent2 = states[i + 1]\r\n",
        "    # Every pair of parents (beginning with 0 and 1) mate with each other\r\n",
        "    # Each pair of parents make a pair of children (twins)\r\n",
        "    tempTwins = mate(parent1, parent2)\r\n",
        "    for child in tempTwins:\r\n",
        "      children.append(child)\r\n",
        "  \r\n",
        "  return children"
      ],
      "execution_count": 1078,
      "outputs": []
    },
    {
      "cell_type": "code",
      "metadata": {
        "id": "fvR2zxxo8OP_"
      },
      "source": [
        "# A random position within the encoded state representation is \"mutated\"\r\n",
        "# The mutated value will be a random value between 0 and (n_queen - 1)\r\n",
        "\r\n",
        "def mutation(states):\r\n",
        "  n = states[0].n_queen\r\n",
        "  for state in states:\r\n",
        "    randIndex = np.random.randint(0, n - 1)\r\n",
        "    state.map[randIndex] = np.random.randint(0, n - 1)\r\n",
        "  return states"
      ],
      "execution_count": 1079,
      "outputs": []
    },
    {
      "cell_type": "code",
      "metadata": {
        "id": "nY-KbMN9H5lC"
      },
      "source": [
        "# Returns the child for two parents\r\n",
        "def mate(parent1, parent2):\r\n",
        "  # Determine some arbitrary slicing point\r\n",
        "  n = parent1.n_queen\r\n",
        "  sliceIndex = np.random.randint(1, n - 1)\r\n",
        "\r\n",
        "  twins = []\r\n",
        "  twin1 = Board(parent1.n_queen)\r\n",
        "  twin1.map = parent1.map[:sliceIndex] + parent2.map[sliceIndex:]\r\n",
        "\r\n",
        "  twin2 = Board(parent1.n_queen)\r\n",
        "  twin2.map = parent2.map[:sliceIndex] + parent1.map[sliceIndex:]\r\n",
        "\r\n",
        "  twins.append(twin1)\r\n",
        "  twins.append(twin2)\r\n",
        "\r\n",
        "  return twins"
      ],
      "execution_count": 1080,
      "outputs": []
    },
    {
      "cell_type": "code",
      "metadata": {
        "colab": {
          "base_uri": "https://localhost:8080/"
        },
        "id": "CQZ1sVjpAUdo",
        "outputId": "1468ec72-563f-4c6a-bbd7-1a0a922f2c46"
      },
      "source": [
        "timeStart = time.time()\r\n",
        "solution = start(8,5)\r\n",
        "solution.showGrid()\r\n",
        "timeEnd = time.time()\r\n",
        "print(f\"Execution time: {timeEnd - timeStart} seconds\")"
      ],
      "execution_count": 1082,
      "outputs": [
        {
          "output_type": "stream",
          "text": [
            "Iterations:  9\n",
            "Restarts:  0\n",
            "[0, 0, 1, 0, 0]\n",
            "[1, 0, 0, 0, 0]\n",
            "[0, 0, 0, 1, 0]\n",
            "[0, 1, 0, 0, 0]\n",
            "[0, 0, 0, 0, 1]\n",
            "Execution time: 0.002636432647705078 seconds\n"
          ],
          "name": "stdout"
        }
      ]
    }
  ]
}