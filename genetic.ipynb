{
  "nbformat": 4,
  "nbformat_minor": 0,
  "metadata": {
    "colab": {
      "name": "genetic",
      "provenance": [],
      "collapsed_sections": [],
      "authorship_tag": "ABX9TyONEzRP3YSJyvgDNuXao6v+"
    },
    "kernelspec": {
      "name": "python3",
      "display_name": "Python 3"
    }
  },
  "cells": [
    {
      "cell_type": "code",
      "metadata": {
        "id": "KzgmpaGzMPfb"
      },
      "source": [
        "# Implement a program that performs the Genetic algorithm with 8\r\n",
        "states including the three operations, i.e., selection, crossover, mutation to find\r\n",
        "a solution.\r\n"
      ],
      "execution_count": null,
      "outputs": []
    }
  ]
}