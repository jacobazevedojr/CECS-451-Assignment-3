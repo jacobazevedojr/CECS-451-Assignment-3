{
  "nbformat": 4,
  "nbformat_minor": 0,
  "metadata": {
    "colab": {
      "name": "genetic.ipynb",
      "provenance": [],
      "collapsed_sections": [],
      "authorship_tag": "ABX9TyMI1KGZO9NMYNZ0Bh2sw9GS",
      "include_colab_link": true
    },
    "kernelspec": {
      "name": "python3",
      "display_name": "Python 3"
    }
  },
  "cells": [
    {
      "cell_type": "markdown",
      "metadata": {
        "id": "view-in-github",
        "colab_type": "text"
      },
      "source": [
        "<a href=\"https://colab.research.google.com/github/jacobazevedojr/CECS-451-Assignment-3/blob/main/genetic.ipynb\" target=\"_parent\"><img src=\"https://colab.research.google.com/assets/colab-badge.svg\" alt=\"Open In Colab\"/></a>"
      ]
    },
    {
      "cell_type": "code",
      "metadata": {
        "id": "ma3t42VyzNhi"
      },
      "source": [
        "# Genetic Algorithms (Local Search)\r\n",
        "\r\n",
        "# Implement a program that performs the Genetic algorithm with 8\r\n",
        "# states including the three operations, i.e., selection, crossover, mutation \r\n",
        "# to find a solution.\r\n",
        "\r\n",
        "from board import Board\r\n",
        "import numpy as np\r\n",
        "import random"
      ],
      "execution_count": 11,
      "outputs": []
    },
    {
      "cell_type": "code",
      "metadata": {
        "id": "bcoMaRR38AJw"
      },
      "source": [
        "# Driver\r\n",
        "\r\n",
        "def start(k, n):\r\n",
        "  # Initialize k random states of n X n boards\r\n",
        "  states = []\r\n",
        "  for i in range(k):\r\n",
        "    states.append(Board(n))\r\n",
        "\r\n",
        "  noSolution = True\r\n",
        "  while noSolution:\r\n",
        "    # Initializes fitness values for all states\r\n",
        "    parents = selection(states)\r\n",
        "    newStates = crossover(parents)\r\n",
        "    states = mutation(newStates)\r\n",
        "\r\n",
        "    # bestFitness is the best fitness for all states (***INIT THESE VALUES***)\r\n",
        "    bestFitness = 0 # Current best fitness for k states\r\n",
        "    optimalFitness = 0 # Maximum non-attacking queen pairs\r\n",
        "    if (bestFitness == optimalFitness):\r\n",
        "      noSolution = False"
      ],
      "execution_count": 10,
      "outputs": []
    },
    {
      "cell_type": "code",
      "metadata": {
        "id": "_UHyfy4L8Fxs"
      },
      "source": [
        "# The more fit a state is, the higher likelihood that it is chosen to mate\r\n",
        "# There is a likelihood of high fitness states \"breeding\" with more than one \r\n",
        "# \"partners\" and low fitness states not breeding at all\r\n",
        "\r\n",
        "# Pass the current k states and return the parents\r\n",
        "\r\n",
        "def selection(states):\r\n",
        "  maxNonAttackingPairs = 0\r\n",
        "  for state in states:\r\n",
        "    # Initialize fitness for each state\r\n",
        "    state.fitness()\r\n",
        "\r\n",
        "  # We need a way to translate fitness into a percentage\r\n",
        "  # With non-attacking queens, bigger is better, but if we try to look at \r\n",
        "  # attacking queens, smaller is better\r\n",
        "\r\n",
        "  cumulativeWeights = []\r\n",
        "  maxTotal = len(states) * maxNonAttackingPairs\r\n",
        "  currNonAttacking = maxAttackingPairs - states[0].fit\r\n",
        "  cumulativeWeights.append((currNotAttacking)/maxTotal)\r\n",
        "  # Hopefully this works\r\n",
        "  # cumWeights = [.14, .24, .35, 1]\r\n",
        "  for i, state in enumerate(states[1:]):\r\n",
        "    # Builds the cumulative weight array \r\n",
        "    # Each array adds the curr percent with the last to determine percent range\r\n",
        "    currNonAttacking = maxAttackingPairs - states[0].fit\r\n",
        "    cumulativeWeights.append(states[i - 1] + (currNonAttacking)/maxTotal)\r\n",
        "\r\n",
        "  parents = []\r\n",
        "  # Use random number generator to choose who \"mates\"\r\n",
        "  for i in range(len(states)):\r\n",
        "    rand = random.random()\r\n",
        "    for i, weight in enumerate(cumulativeWeights):\r\n",
        "      # ex: | .32 - .56 - .70 - .89 - 1 |\r\n",
        "      # The first time the rand is less than a number, it will fall within that\r\n",
        "      # index range\r\n",
        "      if random <= weight:\r\n",
        "        # The parent is chosen\r\n",
        "        parents.append(states[i])\r\n",
        "        # *** URGENT *** CURRENTLY STATES CAN MATE WITH THEMSELVES NEEDS FIX\r\n",
        "        # cumWeights = [.14, .24, .35, 1]\r\n",
        "        # len(states) = 4\r\n",
        "        # MNAP = 20\r\n",
        "        # maxTotal = len(states) * maxNonAttackingPairs = 80\r\n",
        "    \r\n",
        "        # [.14, .1, .11, .65]\r\n",
        "        # [.14, .11, .65]\r\n",
        "        # Take original array\r\n",
        "        # Minus parent\r\n",
        "        # Divide remaining by totalSum\r\n",
        "        # [.14/ (.14 + .11 + .65), .11, .65]\r\n",
        "        # [.15556, .1222, .7222]\r\n",
        "        # newCumulSum = [.1556, .2776, 1]\r\n",
        "        break\r\n",
        "\r\n",
        "  return parents"
      ],
      "execution_count": 3,
      "outputs": []
    },
    {
      "cell_type": "code",
      "metadata": {
        "id": "E1lutT4a8MLC"
      },
      "source": [
        "# Once the selection of mates has been decided, they must now... do the deed\r\n",
        "\r\n",
        "# Pass the selected parent states (always even) \r\n",
        "# and \"breed\" them, return their children\r\n",
        "def crossover(states):\r\n",
        "  children = []\r\n",
        "  for i in range(len(states), 2):\r\n",
        "    parent1 = states[i]\r\n",
        "    parent2 = states[i + 1]\r\n",
        "    # Every pair of parents (beginning with 0 and 1) mate with each other\r\n",
        "    # Each pair of parents make a pair of children (twins)\r\n",
        "    tempTwins = mate(parent1, parent2)\r\n",
        "    for child in tempTwins:\r\n",
        "      children.append(child)\r\n",
        "\r\n",
        "  return children"
      ],
      "execution_count": 9,
      "outputs": []
    },
    {
      "cell_type": "code",
      "metadata": {
        "id": "fvR2zxxo8OP_"
      },
      "source": [
        "# A random position within the encoded state representation is \"mutated\"\r\n",
        "# The mutated value will be a random value between 0 and (n_queen - 1)\r\n",
        "\r\n",
        "def mutation(states):\r\n",
        "  n = states[0].n_queen\r\n",
        "  for state in states:\r\n",
        "    randIndex = np.random.randint(0, n - 1)\r\n",
        "    state.map[randIndex] = np.random.randint(0, n - 1)\r\n",
        "  return states"
      ],
      "execution_count": 8,
      "outputs": []
    },
    {
      "cell_type": "code",
      "metadata": {
        "id": "nY-KbMN9H5lC"
      },
      "source": [
        "# Returns the child for two parents\r\n",
        "def mate(parent1, parent2):\r\n",
        "  # Determine some arbitrary slicing point\r\n",
        "  n = parent1.n_queen\r\n",
        "  sliceIndex = np.random.randint(0, n - 1)\r\n",
        "\r\n",
        "  twins = []\r\n",
        "  twin1 = Board(parent1.n_queens)\r\n",
        "  twin1.map = parent1.map[0:n] + parent2.map[n:]\r\n",
        "\r\n",
        "  twin2 = Board(parent1.n_queens)\r\n",
        "  twin2.map = parent2.map[0:n] + parent1.map[n:]\r\n",
        "\r\n",
        "  twins.append(twin1)\r\n",
        "  twins.append(twin2)\r\n",
        "\r\n",
        "  return twins"
      ],
      "execution_count": 7,
      "outputs": []
    },
    {
      "cell_type": "code",
      "metadata": {
        "colab": {
          "base_uri": "https://localhost:8080/",
          "height": 306
        },
        "id": "CQZ1sVjpAUdo",
        "outputId": "31a80bee-24f5-415d-88d3-a4c2d0bb6b05"
      },
      "source": [
        "start(8, 5)"
      ],
      "execution_count": 12,
      "outputs": [
        {
          "output_type": "error",
          "ename": "NameError",
          "evalue": "ignored",
          "traceback": [
            "\u001b[0;31m---------------------------------------------------------------------------\u001b[0m",
            "\u001b[0;31mNameError\u001b[0m                                 Traceback (most recent call last)",
            "\u001b[0;32m<ipython-input-12-1193486d9397>\u001b[0m in \u001b[0;36m<module>\u001b[0;34m()\u001b[0m\n\u001b[0;32m----> 1\u001b[0;31m \u001b[0mstart\u001b[0m\u001b[0;34m(\u001b[0m\u001b[0;36m8\u001b[0m\u001b[0;34m,\u001b[0m \u001b[0;36m5\u001b[0m\u001b[0;34m)\u001b[0m\u001b[0;34m\u001b[0m\u001b[0;34m\u001b[0m\u001b[0m\n\u001b[0m",
            "\u001b[0;32m<ipython-input-10-8fc75d1754b0>\u001b[0m in \u001b[0;36mstart\u001b[0;34m(k, n)\u001b[0m\n\u001b[1;32m     10\u001b[0m   \u001b[0;32mwhile\u001b[0m \u001b[0mnoSolution\u001b[0m\u001b[0;34m:\u001b[0m\u001b[0;34m\u001b[0m\u001b[0;34m\u001b[0m\u001b[0m\n\u001b[1;32m     11\u001b[0m     \u001b[0;31m# Initializes fitness values for all states\u001b[0m\u001b[0;34m\u001b[0m\u001b[0;34m\u001b[0m\u001b[0;34m\u001b[0m\u001b[0m\n\u001b[0;32m---> 12\u001b[0;31m     \u001b[0mparents\u001b[0m \u001b[0;34m=\u001b[0m \u001b[0mselection\u001b[0m\u001b[0;34m(\u001b[0m\u001b[0mstates\u001b[0m\u001b[0;34m)\u001b[0m\u001b[0;34m\u001b[0m\u001b[0;34m\u001b[0m\u001b[0m\n\u001b[0m\u001b[1;32m     13\u001b[0m     \u001b[0mnewStates\u001b[0m \u001b[0;34m=\u001b[0m \u001b[0mcrossover\u001b[0m\u001b[0;34m(\u001b[0m\u001b[0mparents\u001b[0m\u001b[0;34m)\u001b[0m\u001b[0;34m\u001b[0m\u001b[0;34m\u001b[0m\u001b[0m\n\u001b[1;32m     14\u001b[0m     \u001b[0mstates\u001b[0m \u001b[0;34m=\u001b[0m \u001b[0mmutation\u001b[0m\u001b[0;34m(\u001b[0m\u001b[0mnewStates\u001b[0m\u001b[0;34m)\u001b[0m\u001b[0;34m\u001b[0m\u001b[0;34m\u001b[0m\u001b[0m\n",
            "\u001b[0;32m<ipython-input-3-58e9a7ee77a1>\u001b[0m in \u001b[0;36mselection\u001b[0;34m(states)\u001b[0m\n\u001b[1;32m     15\u001b[0m \u001b[0;34m\u001b[0m\u001b[0m\n\u001b[1;32m     16\u001b[0m   \u001b[0mcumulativeWeights\u001b[0m \u001b[0;34m=\u001b[0m \u001b[0;34m[\u001b[0m\u001b[0;34m]\u001b[0m\u001b[0;34m\u001b[0m\u001b[0;34m\u001b[0m\u001b[0m\n\u001b[0;32m---> 17\u001b[0;31m   \u001b[0mmaxTotal\u001b[0m \u001b[0;34m=\u001b[0m \u001b[0mlen\u001b[0m\u001b[0;34m(\u001b[0m\u001b[0mstates\u001b[0m\u001b[0;34m)\u001b[0m \u001b[0;34m*\u001b[0m \u001b[0mmaxNonAttackingPairs\u001b[0m\u001b[0;34m\u001b[0m\u001b[0;34m\u001b[0m\u001b[0m\n\u001b[0m\u001b[1;32m     18\u001b[0m   \u001b[0mcumulativeWeights\u001b[0m\u001b[0;34m.\u001b[0m\u001b[0mappend\u001b[0m\u001b[0;34m(\u001b[0m\u001b[0;34m(\u001b[0m\u001b[0mmaxAttackingPairs\u001b[0m \u001b[0;34m-\u001b[0m \u001b[0mstates\u001b[0m\u001b[0;34m[\u001b[0m\u001b[0;36m0\u001b[0m\u001b[0;34m]\u001b[0m\u001b[0;34m.\u001b[0m\u001b[0mfit\u001b[0m\u001b[0;34m)\u001b[0m\u001b[0;34m/\u001b[0m\u001b[0mmaxAttackingPairs\u001b[0m\u001b[0;34m)\u001b[0m\u001b[0;34m\u001b[0m\u001b[0;34m\u001b[0m\u001b[0m\n\u001b[1;32m     19\u001b[0m   \u001b[0;31m# Hopefully this works\u001b[0m\u001b[0;34m\u001b[0m\u001b[0;34m\u001b[0m\u001b[0;34m\u001b[0m\u001b[0m\n",
            "\u001b[0;31mNameError\u001b[0m: name 'maxNonAttackingPairs' is not defined"
          ]
        }
      ]
    }
  ]
}