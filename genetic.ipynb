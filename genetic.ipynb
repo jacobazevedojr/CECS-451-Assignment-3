{
  "nbformat": 4,
  "nbformat_minor": 0,
  "metadata": {
    "colab": {
      "name": "genetic.ipynb",
      "provenance": [],
      "collapsed_sections": [],
      "authorship_tag": "ABX9TyOgu5mMj86/+kPnUqQUUYOb",
      "include_colab_link": true
    },
    "kernelspec": {
      "name": "python3",
      "display_name": "Python 3"
    }
  },
  "cells": [
    {
      "cell_type": "markdown",
      "metadata": {
        "id": "view-in-github",
        "colab_type": "text"
      },
      "source": [
        "<a href=\"https://colab.research.google.com/github/jacobazevedojr/CECS-451-Assignment-3/blob/main/genetic.ipynb\" target=\"_parent\"><img src=\"https://colab.research.google.com/assets/colab-badge.svg\" alt=\"Open In Colab\"/></a>"
      ]
    },
    {
      "cell_type": "code",
      "metadata": {
        "colab": {
          "base_uri": "https://localhost:8080/",
          "height": 367
        },
        "id": "ma3t42VyzNhi",
        "outputId": "e10b20c0-ee00-4513-c8be-de058b29ef03"
      },
      "source": [
        "# Genetic Algorithms (Local Search)\r\n",
        "\r\n",
        "# Implement a program that performs the Genetic algorithm with 8\r\n",
        "# states including the three operations, i.e., selection, crossover, mutation \r\n",
        "# to find a solution.\r\n",
        "\r\n",
        "from board import Board\r\n",
        "import numpy as np\r\n",
        "import random"
      ],
      "execution_count": 1,
      "outputs": [
        {
          "output_type": "error",
          "ename": "ModuleNotFoundError",
          "evalue": "ignored",
          "traceback": [
            "\u001b[0;31m---------------------------------------------------------------------------\u001b[0m",
            "\u001b[0;31mModuleNotFoundError\u001b[0m                       Traceback (most recent call last)",
            "\u001b[0;32m<ipython-input-1-57c496aa0b3c>\u001b[0m in \u001b[0;36m<module>\u001b[0;34m()\u001b[0m\n\u001b[1;32m      5\u001b[0m \u001b[0;31m# to find a solution.\u001b[0m\u001b[0;34m\u001b[0m\u001b[0;34m\u001b[0m\u001b[0;34m\u001b[0m\u001b[0m\n\u001b[1;32m      6\u001b[0m \u001b[0;34m\u001b[0m\u001b[0m\n\u001b[0;32m----> 7\u001b[0;31m \u001b[0;32mfrom\u001b[0m \u001b[0mboard\u001b[0m \u001b[0;32mimport\u001b[0m \u001b[0mBoard\u001b[0m\u001b[0;34m\u001b[0m\u001b[0;34m\u001b[0m\u001b[0m\n\u001b[0m\u001b[1;32m      8\u001b[0m \u001b[0;32mimport\u001b[0m \u001b[0mnumpy\u001b[0m \u001b[0;32mas\u001b[0m \u001b[0mnp\u001b[0m\u001b[0;34m\u001b[0m\u001b[0;34m\u001b[0m\u001b[0m\n\u001b[1;32m      9\u001b[0m \u001b[0;32mimport\u001b[0m \u001b[0mrandom\u001b[0m\u001b[0;34m\u001b[0m\u001b[0;34m\u001b[0m\u001b[0m\n",
            "\u001b[0;31mModuleNotFoundError\u001b[0m: No module named 'board'",
            "",
            "\u001b[0;31m---------------------------------------------------------------------------\u001b[0;32m\nNOTE: If your import is failing due to a missing package, you can\nmanually install dependencies using either !pip or !apt.\n\nTo view examples of installing some common dependencies, click the\n\"Open Examples\" button below.\n\u001b[0;31m---------------------------------------------------------------------------\u001b[0m\n"
          ]
        }
      ]
    },
    {
      "cell_type": "code",
      "metadata": {
        "id": "bcoMaRR38AJw"
      },
      "source": [
        "# Driver\r\n",
        "\r\n",
        "def start(k, n):\r\n",
        "  # Initialize k random states of n X n boards\r\n",
        "  states = []\r\n",
        "  for i in range(k):\r\n",
        "    states.append(Board(n))\r\n",
        "\r\n",
        "  noSolution = True\r\n",
        "  while noSolution:\r\n",
        "    # Initializes fitness values for all states\r\n",
        "    parents = selection(states)\r\n",
        "    newStates = crossover(parents)\r\n",
        "    states = mutation(newStates)\r\n",
        "\r\n",
        "    # bestFitness is the best fitness for all states (***INIT THESE VALUES***)\r\n",
        "    bestFitness = 0\r\n",
        "    optimalFitness = 0\r\n",
        "    if (bestFitness == optimalFitness):\r\n",
        "      noSolution = False"
      ],
      "execution_count": 2,
      "outputs": []
    },
    {
      "cell_type": "code",
      "metadata": {
        "id": "_UHyfy4L8Fxs"
      },
      "source": [
        "# The more fit a state is, the higher likelihood that it is chosen to mate\r\n",
        "# There is a likelihood of high fitness states \"breeding\" with more than one \r\n",
        "# \"partners\" and low fitness states not breeding at all\r\n",
        "\r\n",
        "# Pass the current k states and return the parents\r\n",
        "\r\n",
        "def selection(states):\r\n",
        "  for state in states:\r\n",
        "    # Initialize fitness for each state\r\n",
        "    state.fitness()\r\n",
        "\r\n",
        "  # We need a way to translate fitness into a percentage\r\n",
        "  # With non-attacking queens, bigger is better, but if we try to look at \r\n",
        "  # attacking queens, smaller is better\r\n",
        "\r\n",
        "  cumulativeWeights = []\r\n",
        "  maxTotal = len(states) * maxNonAttackingPairs\r\n",
        "  cumulativeWeights.append((maxAttackingPairs - states[0].fit)/maxAttackingPairs)\r\n",
        "  # Hopefully this works\r\n",
        "  for i, state in enumerate(states[1:]):\r\n",
        "    # Builds the cumulative weight array \r\n",
        "    # Each array adds the curr percent with the last to determine percent range\r\n",
        "    cumulativeWeights.append(states[i - 1] + (maxAttackingPairs - state.fit)/maxAttackingPairs)\r\n",
        "\r\n",
        "  parents = []\r\n",
        "  # Use random number generator to choose who \"mates\"\r\n",
        "  for i in range(states[0].n_queen):\r\n",
        "    rand = random.random()\r\n",
        "    for i, weight in enumerate(cumulativeWeights):\r\n",
        "      # ex: | .32 - .56 - .70 - .89 - 1 |\r\n",
        "      # The first time the rand is less than a number, it will fall within that\r\n",
        "      # index range\r\n",
        "      if random < weight:\r\n",
        "        # The parent is chosen\r\n",
        "        parents.append(states[i])\r\n",
        "        # *** URGENT *** CURRENTLY STATES CAN MATE WITH THEMSELVES NEEDS FIX\r\n",
        "        break\r\n",
        "\r\n",
        "  return parents"
      ],
      "execution_count": 4,
      "outputs": []
    },
    {
      "cell_type": "code",
      "metadata": {
        "id": "E1lutT4a8MLC"
      },
      "source": [
        "# Once the selection of mates has been decided, they must now... do the deed\r\n",
        "\r\n",
        "# Pass the selected parent states (always even) \r\n",
        "# and \"breed\" them, return their children\r\n",
        "def crossover(states):\r\n",
        "  children = []\r\n",
        "  for i in range(len(states)//2):\r\n",
        "    parent1 = states[i]\r\n",
        "    parent2 = states[i + 1]\r\n",
        "    # Every pair of parents (beginning with 0 and 1) mate with each other\r\n",
        "    # Each pair of parents make a pair of children (twins)\r\n",
        "    tempTwins = mate(parent1, parent2)\r\n",
        "    for child in tempTwins:\r\n",
        "      children.append(child)\r\n",
        "\r\n",
        "  return children"
      ],
      "execution_count": 5,
      "outputs": []
    },
    {
      "cell_type": "code",
      "metadata": {
        "id": "fvR2zxxo8OP_"
      },
      "source": [
        "# A random position within the encoded state representation is \"mutated\"\r\n",
        "# The mutated value will be a random value between 0 and (n_queen - 1)\r\n",
        "\r\n",
        "def mutation(states):\r\n",
        "  n = states[0].n_queen\r\n",
        "  for state in states:\r\n",
        "    randIndex = np.random.randint(0, n)\r\n",
        "    # state.encoding[randIndex] = np.random.randint(0, n)\r\n",
        "  return states"
      ],
      "execution_count": 6,
      "outputs": []
    },
    {
      "cell_type": "code",
      "metadata": {
        "id": "nY-KbMN9H5lC"
      },
      "source": [
        "# Returns the child for two parents\r\n",
        "def mate(parent1, parent2):\r\n",
        "  # Determine some arbitrary slicing point\r\n",
        "  n = parent1.n_queen\r\n",
        "  sliceIndex = np.random.randint(0, n)\r\n",
        "\r\n",
        "  twins = []\r\n",
        "  twins.append(parent1[0:n] + parent2[n:])\r\n",
        "  twins.append(parent2[0:n] + parent1[n:])\r\n",
        "\r\n",
        "  return twins"
      ],
      "execution_count": 7,
      "outputs": []
    },
    {
      "cell_type": "code",
      "metadata": {
        "colab": {
          "base_uri": "https://localhost:8080/",
          "height": 282
        },
        "id": "CQZ1sVjpAUdo",
        "outputId": "a0083352-de0a-4339-ae28-d5089f113e10"
      },
      "source": [
        "start(8, 5)"
      ],
      "execution_count": 9,
      "outputs": [
        {
          "output_type": "error",
          "ename": "NameError",
          "evalue": "ignored",
          "traceback": [
            "\u001b[0;31m---------------------------------------------------------------------------\u001b[0m",
            "\u001b[0;31mNameError\u001b[0m                                 Traceback (most recent call last)",
            "\u001b[0;32m<ipython-input-9-1193486d9397>\u001b[0m in \u001b[0;36m<module>\u001b[0;34m()\u001b[0m\n\u001b[0;32m----> 1\u001b[0;31m \u001b[0mstart\u001b[0m\u001b[0;34m(\u001b[0m\u001b[0;36m8\u001b[0m\u001b[0;34m,\u001b[0m \u001b[0;36m5\u001b[0m\u001b[0;34m)\u001b[0m\u001b[0;34m\u001b[0m\u001b[0;34m\u001b[0m\u001b[0m\n\u001b[0m",
            "\u001b[0;32m<ipython-input-2-e6931e328836>\u001b[0m in \u001b[0;36mstart\u001b[0;34m(k, n)\u001b[0m\n\u001b[1;32m      5\u001b[0m   \u001b[0mstates\u001b[0m \u001b[0;34m=\u001b[0m \u001b[0;34m[\u001b[0m\u001b[0;34m]\u001b[0m\u001b[0;34m\u001b[0m\u001b[0;34m\u001b[0m\u001b[0m\n\u001b[1;32m      6\u001b[0m   \u001b[0;32mfor\u001b[0m \u001b[0mi\u001b[0m \u001b[0;32min\u001b[0m \u001b[0mrange\u001b[0m\u001b[0;34m(\u001b[0m\u001b[0mk\u001b[0m\u001b[0;34m)\u001b[0m\u001b[0;34m:\u001b[0m\u001b[0;34m\u001b[0m\u001b[0;34m\u001b[0m\u001b[0m\n\u001b[0;32m----> 7\u001b[0;31m     \u001b[0mstates\u001b[0m\u001b[0;34m.\u001b[0m\u001b[0mappend\u001b[0m\u001b[0;34m(\u001b[0m\u001b[0mBoard\u001b[0m\u001b[0;34m(\u001b[0m\u001b[0mn\u001b[0m\u001b[0;34m)\u001b[0m\u001b[0;34m)\u001b[0m\u001b[0;34m\u001b[0m\u001b[0;34m\u001b[0m\u001b[0m\n\u001b[0m\u001b[1;32m      8\u001b[0m \u001b[0;34m\u001b[0m\u001b[0m\n\u001b[1;32m      9\u001b[0m   \u001b[0mnoSolution\u001b[0m \u001b[0;34m=\u001b[0m \u001b[0;32mTrue\u001b[0m\u001b[0;34m\u001b[0m\u001b[0;34m\u001b[0m\u001b[0m\n",
            "\u001b[0;31mNameError\u001b[0m: name 'Board' is not defined"
          ]
        }
      ]
    }
  ]
}