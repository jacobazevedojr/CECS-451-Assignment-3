{
  "nbformat": 4,
  "nbformat_minor": 0,
  "metadata": {
    "colab": {
      "name": "genetic",
      "provenance": [],
      "authorship_tag": "ABX9TyONEzRP3YSJyvgDNuXao6v+",
      "include_colab_link": true
    },
    "kernelspec": {
      "name": "python3",
      "display_name": "Python 3"
    }
  },
  "cells": [
    {
      "cell_type": "markdown",
      "metadata": {
        "id": "view-in-github",
        "colab_type": "text"
      },
      "source": [
        "<a href=\"https://colab.research.google.com/github/jacobazevedojr/CECS-451-Assignment-3/blob/main/genetic.ipynb\" target=\"_parent\"><img src=\"https://colab.research.google.com/assets/colab-badge.svg\" alt=\"Open In Colab\"/></a>"
      ]
    },
    {
      "cell_type": "code",
      "metadata": {
        "id": "KzgmpaGzMPfb"
      },
      "source": [
        "# Implement a program that performs the Genetic algorithm with 8\r\n",
        "states including the three operations, i.e., selection, crossover, mutation to find\r\n",
        "a solution.\r\n"
      ],
      "execution_count": null,
      "outputs": []
    }
  ]
}