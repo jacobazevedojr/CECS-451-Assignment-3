{
  "nbformat": 4,
  "nbformat_minor": 0,
  "metadata": {
    "colab": {
      "name": "hill.ipynb",
      "provenance": [],
      "collapsed_sections": [],
      "include_colab_link": true
    },
    "kernelspec": {
      "name": "python3",
      "display_name": "Python 3"
    }
  },
  "cells": [
    {
      "cell_type": "markdown",
      "metadata": {
        "id": "view-in-github",
        "colab_type": "text"
      },
      "source": [
        "<a href=\"https://colab.research.google.com/github/jacobazevedojr/CECS-451-Assignment-3/blob/main/hill.ipynb\" target=\"_parent\"><img src=\"https://colab.research.google.com/assets/colab-badge.svg\" alt=\"Open In Colab\"/></a>"
      ]
    },
    {
      "cell_type": "code",
      "metadata": {
        "id": "J8EFaVgXLKG1"
      },
      "source": [
        "# Hill Climbing Local Search Algorithm"
      ],
      "execution_count": null,
      "outputs": []
    },
    {
      "cell_type": "code",
      "metadata": {
        "id": "IytusEZgRJxO"
      },
      "source": [
        "# This function returns all nearby states in relation to the passed initial state\r\n",
        "# as a list of Board objects.\r\n",
        "\r\n",
        "def hillClimb(initState):\r\n",
        "  continue"
      ],
      "execution_count": null,
      "outputs": []
    },
    {
      "cell_type": "code",
      "metadata": {
        "id": "utsJfVTeOFw2"
      },
      "source": [
        "# This function evaluates the fitnesses of all nearby states and returns the best\r\n",
        "# out of all the neighbors\r\n",
        "# This will be applied iteratively until the fitness of the best evaluated state\r\n",
        "# is perfect\r\n",
        "\r\n",
        "def eval(stateList):\r\n",
        "  continue"
      ],
      "execution_count": null,
      "outputs": []
    },
    {
      "cell_type": "code",
      "metadata": {
        "id": "WImyGoybPmEH"
      },
      "source": [
        "# Randomly initialize a board\r\n",
        "init = Board()\r\n",
        "\r\n",
        "perfect = 0\r\n",
        "# If minimizing attacking queens, perfect is 0 collisions\r\n",
        "while  init.fitness > perfect:\r\n",
        "  # Generate neighbor states\r\n",
        "  states = hillClimb(init)\r\n",
        "  if localMin:\r\n",
        "    # Random Restart\r\n",
        "    init = Board()\r\n",
        "  else:\r\n",
        "    init = eval(states)\r\n"
      ],
      "execution_count": null,
      "outputs": []
    }
  ]
}