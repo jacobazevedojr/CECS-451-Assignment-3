{
  "nbformat": 4,
  "nbformat_minor": 0,
  "metadata": {
    "colab": {
      "name": "hill.ipynb",
      "provenance": [],
      "collapsed_sections": [],
      "include_colab_link": true
    },
    "kernelspec": {
      "name": "python3",
      "display_name": "Python 3"
    }
  },
  "cells": [
    {
      "cell_type": "markdown",
      "metadata": {
        "id": "view-in-github",
        "colab_type": "text"
      },
      "source": [
        "<a href=\"https://colab.research.google.com/github/jacobazevedojr/CECS-451-Assignment-3/blob/main/hill.ipynb\" target=\"_parent\"><img src=\"https://colab.research.google.com/assets/colab-badge.svg\" alt=\"Open In Colab\"/></a>"
      ]
    },
    {
      "cell_type": "code",
      "metadata": {
        "id": "J8EFaVgXLKG1"
      },
      "source": [
        "# Hill Climbing Local Search Algorithm\r\n",
        "from board import Board"
      ],
      "execution_count": 3,
      "outputs": []
    },
    {
      "cell_type": "code",
      "metadata": {
        "id": "IytusEZgRJxO"
      },
      "source": [
        "# This function returns all nearby states in relation to the passed initial state\r\n",
        "# as a list of Board objects.\r\n",
        "\r\n",
        "def hillClimb(initState):\r\n",
        "  pass"
      ],
      "execution_count": 5,
      "outputs": []
    },
    {
      "cell_type": "code",
      "metadata": {
        "id": "utsJfVTeOFw2"
      },
      "source": [
        "# This function evaluates the fitnesses of all nearby states and returns the best\r\n",
        "# out of all the neighbors\r\n",
        "# This will be applied iteratively until the fitness of the best evaluated state\r\n",
        "# is perfect\r\n",
        "\r\n",
        "def eval(stateList):\r\n",
        "  return Board(5)"
      ],
      "execution_count": 19,
      "outputs": []
    },
    {
      "cell_type": "code",
      "metadata": {
        "id": "5g3k9y2OYWH1"
      },
      "source": [
        "# Determines if all neighboring states are worse or equal to the current state\r\n",
        "\r\n",
        "def localMin(stateList):\r\n",
        "  pass"
      ],
      "execution_count": 7,
      "outputs": []
    },
    {
      "cell_type": "code",
      "metadata": {
        "id": "WImyGoybPmEH"
      },
      "source": [
        "# Driver function\r\n",
        "def start():\r\n",
        "  restarts = 0\r\n",
        "\r\n",
        "  # Randomly initialize a board\r\n",
        "  init = Board(5)\r\n",
        "\r\n",
        "  perfect = 0\r\n",
        "  # If minimizing attacking queens, perfect is 0 collisions\r\n",
        "  init.fitness()\r\n",
        "  while  init.fit > perfect:\r\n",
        "    print(init.fit)\r\n",
        "    # Generate neighbor states\r\n",
        "    states = hillClimb(init)\r\n",
        "    if localMin(states):\r\n",
        "      # Random Restart\r\n",
        "      init = Board(5)\r\n",
        "      restarts += 1\r\n",
        "    else:\r\n",
        "      init = eval(states)\r\n",
        "    init.fitness()"
      ],
      "execution_count": 26,
      "outputs": []
    },
    {
      "cell_type": "code",
      "metadata": {
        "id": "JP8DPAR0YZdi",
        "outputId": "e4a1a208-3f39-40df-ee10-d61bf2c39525",
        "colab": {
          "base_uri": "https://localhost:8080/"
        }
      },
      "source": [
        "start()"
      ],
      "execution_count": 27,
      "outputs": [
        {
          "output_type": "stream",
          "text": [
            "6\n",
            "3\n",
            "3\n",
            "3\n",
            "5\n",
            "4\n",
            "7\n",
            "3\n",
            "5\n",
            "4\n",
            "3\n",
            "5\n",
            "6\n",
            "5\n",
            "5\n",
            "5\n",
            "6\n",
            "3\n",
            "4\n",
            "7\n",
            "4\n",
            "4\n",
            "3\n",
            "5\n",
            "4\n",
            "5\n",
            "4\n",
            "4\n",
            "4\n",
            "5\n",
            "3\n",
            "4\n",
            "4\n",
            "4\n",
            "6\n",
            "3\n",
            "4\n",
            "5\n",
            "3\n",
            "3\n",
            "4\n",
            "3\n",
            "3\n",
            "3\n",
            "7\n",
            "5\n",
            "3\n",
            "7\n",
            "6\n",
            "6\n",
            "6\n",
            "6\n",
            "4\n",
            "5\n",
            "4\n",
            "6\n",
            "5\n",
            "3\n",
            "5\n",
            "6\n",
            "7\n"
          ],
          "name": "stdout"
        }
      ]
    }
  ]
}