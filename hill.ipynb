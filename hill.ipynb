{
  "nbformat": 4,
  "nbformat_minor": 0,
  "metadata": {
    "colab": {
      "name": "hill.ipynb",
      "provenance": [],
      "collapsed_sections": [],
      "include_colab_link": true
    },
    "kernelspec": {
      "name": "python3",
      "display_name": "Python 3"
    }
  },
  "cells": [
    {
      "cell_type": "markdown",
      "metadata": {
        "id": "view-in-github",
        "colab_type": "text"
      },
      "source": [
        "<a href=\"https://colab.research.google.com/github/jacobazevedojr/CECS-451-Assignment-3/blob/main/hill.ipynb\" target=\"_parent\"><img src=\"https://colab.research.google.com/assets/colab-badge.svg\" alt=\"Open In Colab\"/></a>"
      ]
    },
    {
      "cell_type": "code",
      "metadata": {
        "id": "J8EFaVgXLKG1",
        "colab": {
          "base_uri": "https://localhost:8080/"
        },
        "outputId": "590f5fbc-012f-483f-80ae-9db046d78e72"
      },
      "source": [
        "# Hill Climbing Local Search Algorithm\r\n",
        "from board import Board\r\n",
        "import copy\r\n",
        "import time\r\n",
        "# This function returns all nearby states in relation to the passed initial state\r\n",
        "# as a list of Board objects.\r\n",
        "\r\n",
        "def hillClimb(initState):\r\n",
        "  # Using row encoding [0, 1, 2, 3, 4] with each index corresponding to the\r\n",
        "  # rows top to bottom. The element values corresponding to the column, left to \r\n",
        "  # right\r\n",
        "\r\n",
        "  # Neighboring states to the init state\r\n",
        "  states = []\r\n",
        "\r\n",
        "  # Each new state is a single queen different than the first\r\n",
        "  for i in range(initState.n_queen):\r\n",
        "    \r\n",
        "    # if the queen is not on the right edge of the board\r\n",
        "    if initState.map[i] + 1 < initState.n_queen:\r\n",
        "    # Move the queen right\r\n",
        "    # Encoding and map both updated to reflect movement of queen\r\n",
        "      currMap = (copy.deepcopy(initState))\r\n",
        "      currMap.map[i] += 1\r\n",
        "      states.append(currMap)\r\n",
        "\r\n",
        "    # if the queen is not on the left edge of the board\r\n",
        "    if initState.map[i] - 1 >= 0:\r\n",
        "      # Move the queen left\r\n",
        "      currMap = (copy.deepcopy(initState))\r\n",
        "      currMap.map[i] -= 1\r\n",
        "      # if we've previously stored a state with the piece moved to the right,\r\n",
        "      # move it one more space to the left\r\n",
        "      states.append(currMap)\r\n",
        "      \r\n",
        "  return states\r\n",
        "\r\n",
        "  # At most, n_queen * 2 states will be returned. At least n_queen states\r\n",
        "  # will be returned\r\n",
        "\r\n",
        "# This function evaluates the fitnesses of all nearby states and returns the best\r\n",
        "# out of all the neighbors\r\n",
        "# This will be applied iteratively until the fitness of the best evaluated state\r\n",
        "# is perfect\r\n",
        "\r\n",
        "def eval(stateList):\r\n",
        "  bestState = stateList[0]\r\n",
        "  bestFit = bestState.fitness()\r\n",
        "\r\n",
        "  # iterate through all neighboring states\r\n",
        "  for state in stateList[1:]:\r\n",
        "    currFit = state.fitness()\r\n",
        "\r\n",
        "    # save any state that is an improvement on the original\r\n",
        "    if currFit < bestFit:\r\n",
        "      bestState = state\r\n",
        "      bestFit = bestState.fitness()\r\n",
        "\r\n",
        "  return bestState\r\n",
        "\r\n",
        "# Driver function\r\n",
        "def start():\r\n",
        "  restarts = 0\r\n",
        "\r\n",
        "  # The size of the board is queens x queens, \r\n",
        "  # and we'll have \"queens\" # of queens\r\n",
        "  queens = 5\r\n",
        "\r\n",
        "  # Randomly initialize a board\r\n",
        "  init = Board(queens)\r\n",
        "\r\n",
        "  # if minimizing attacking queens, perfect is 0 collisions\r\n",
        "  perfect = 0\r\n",
        "  currFit = init.fitness()\r\n",
        "\r\n",
        "  # run algorithm until we find a board state with 0 fitness  \r\n",
        "  while  init.fit > perfect:\r\n",
        "    currFit = init.fitness()  \r\n",
        "    # Generate neighbor states\r\n",
        "    states = hillClimb(init)\r\n",
        "    nextBest = eval(states)\r\n",
        "    nextFit = nextBest.fitness()\r\n",
        "    # determine if all neighboring states are worse or equal \r\n",
        "    # to the current state\r\n",
        "    if currFit <= nextFit:\r\n",
        "      # if no neighboring states are an improvement, the algo may have\r\n",
        "      # hit a local minimum; restart with a new board\r\n",
        "      init = Board(queens)\r\n",
        "      init.fitness()\r\n",
        "      restarts += 1\r\n",
        "    else:\r\n",
        "      # otherwise, restart with the best board state found\r\n",
        "      init = nextBest\r\n",
        "      restarts += 1\r\n",
        "\r\n",
        "  init.showGrid()\r\n",
        "  print(\"Number of restarts: \" + str(restarts))\r\n",
        "\r\n",
        "timeStart = time.time()\r\n",
        "start()\r\n",
        "timeEnd = time.time()\r\n",
        "print(f\"Execution time: {timeEnd - timeStart} seconds\")\r\n"
      ],
      "execution_count": 112,
      "outputs": [
        {
          "output_type": "stream",
          "text": [
            "[0, 0, 0, 0, 1]\n",
            "[0, 1, 0, 0, 0]\n",
            "[0, 0, 0, 1, 0]\n",
            "[1, 0, 0, 0, 0]\n",
            "[0, 0, 1, 0, 0]\n",
            "Number of restarts: 50\n",
            "Execution time: 0.01013636589050293 seconds\n"
          ],
          "name": "stdout"
        }
      ]
    },
    {
      "cell_type": "code",
      "metadata": {
        "id": "XXLWBiMMd5WW"
      },
      "source": [
        ""
      ],
      "execution_count": null,
      "outputs": []
    }
  ]
}