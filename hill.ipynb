{
  "nbformat": 4,
  "nbformat_minor": 0,
  "metadata": {
    "colab": {
      "name": "hill.ipynb",
      "provenance": [],
      "collapsed_sections": [],
      "include_colab_link": true
    },
    "kernelspec": {
      "name": "python3",
      "display_name": "Python 3"
    }
  },
  "cells": [
    {
      "cell_type": "markdown",
      "metadata": {
        "id": "view-in-github",
        "colab_type": "text"
      },
      "source": [
        "<a href=\"https://colab.research.google.com/github/jacobazevedojr/CECS-451-Assignment-3/blob/main/hill.ipynb\" target=\"_parent\"><img src=\"https://colab.research.google.com/assets/colab-badge.svg\" alt=\"Open In Colab\"/></a>"
      ]
    },
    {
      "cell_type": "code",
      "metadata": {
        "id": "J8EFaVgXLKG1"
      },
      "source": [
        "# Hill Climbing Local Search Algorithm\r\n",
        "from board import Board"
      ],
      "execution_count": 20,
      "outputs": []
    },
    {
      "cell_type": "code",
      "metadata": {
        "id": "IytusEZgRJxO"
      },
      "source": [
        "# This function returns all nearby states in relation to the passed initial state\r\n",
        "# as a list of Board objects.\r\n",
        "\r\n",
        "def hillClimb(initState):\r\n",
        "  # Using row encoding [0, 1, 2, 3, 4] with each index corresponding to the\r\n",
        "  # rows top to bottom. The element values corresponding to the column, left to \r\n",
        "  # right\r\n",
        "\r\n",
        "  # Neighboring states to the init state\r\n",
        "  states = []\r\n",
        "  \r\n",
        "  # Each new state is a single queen different than the first\r\n",
        "  for i in range(initState.n_queen):\r\n",
        "    newStateP = Board(5)\r\n",
        "    newStateM = Board(5)\r\n",
        "    for j in range(2):\r\n",
        "      if j % 2 == 0 and initState.encoding[i] + 1 < initState.n_queen:\r\n",
        "      # Move the queen up\r\n",
        "      # Encoding and map both updated to reflect movement of queen\r\n",
        "        newStateP.map[i][initState.encoding[i]] = 0 \r\n",
        "        newStateP.encoding[i] = initState.encoding[i] + 1\r\n",
        "        newStateP.map[i][newStateP.encoding[i]] = 1\r\n",
        "        states.append(newStateP)\r\n",
        "\r\n",
        "      elif initState.encoding[i] - 1 >= 0:\r\n",
        "      # Move the queen down\r\n",
        "        newStateM.map[i][initState.encoding[i]] = 0 \r\n",
        "        newStateM.encoding[i] = initState.encoding[i] - 1\r\n",
        "        newStateM.map[i][newStateM.encoding[i]] = 1\r\n",
        "        states.append(newStateM)\r\n",
        "\r\n",
        "      # At most, n_queen * 2 states will be returned. At least n_queen states\r\n",
        "      # will be returned\r\n"
      ],
      "execution_count": 41,
      "outputs": []
    },
    {
      "cell_type": "code",
      "metadata": {
        "id": "utsJfVTeOFw2"
      },
      "source": [
        "# This function evaluates the fitnesses of all nearby states and returns the best\r\n",
        "# out of all the neighbors\r\n",
        "# This will be applied iteratively until the fitness of the best evaluated state\r\n",
        "# is perfect\r\n",
        "\r\n",
        "def eval(stateList):\r\n",
        "  bestState = stateList[0]\r\n",
        "  for state in stateList:\r\n",
        "    if state.fitness() < bestState.fitness():\r\n",
        "      bestState = state\r\n",
        "\r\n",
        "  return bestState"
      ],
      "execution_count": 18,
      "outputs": []
    },
    {
      "cell_type": "code",
      "metadata": {
        "id": "5g3k9y2OYWH1"
      },
      "source": [
        "# Determines if all neighboring states are worse or equal to the current state\r\n",
        "# Worst is defined as the _____ fitness\r\n",
        "def localMin(current, next):\r\n",
        "  if current.fitness() < next.fitness():\r\n",
        "    return true\r\n",
        "  return false"
      ],
      "execution_count": 17,
      "outputs": []
    },
    {
      "cell_type": "code",
      "metadata": {
        "id": "WImyGoybPmEH"
      },
      "source": [
        "# Driver function\r\n",
        "def start():\r\n",
        "  restarts = 0\r\n",
        "\r\n",
        "  # Randomly initialize a board\r\n",
        "  init = Board(5)\r\n",
        "\r\n",
        "  perfect = 0\r\n",
        "  # If minimizing attacking queens, perfect is 0 collisions\r\n",
        "  init.fitness()\r\n",
        "  while  init.fit > perfect:\r\n",
        "    print(init.fit)\r\n",
        "    # Generate neighbor states\r\n",
        "    states = hillClimb(init)\r\n",
        "    nextBest = eval(states)\r\n",
        "    if localMin(init, nextBest):\r\n",
        "      # Random Restart\r\n",
        "      init = Board(5)\r\n",
        "      restarts += 1\r\n",
        "    else:\r\n",
        "      init = nextBest\r\n",
        "    init.fitness()"
      ],
      "execution_count": 33,
      "outputs": []
    },
    {
      "cell_type": "code",
      "metadata": {
        "id": "JP8DPAR0YZdi",
        "colab": {
          "base_uri": "https://localhost:8080/",
          "height": 306
        },
        "outputId": "55ca8d9c-4298-4cc0-b9fc-71b06a37f4c5"
      },
      "source": [
        "start()"
      ],
      "execution_count": 43,
      "outputs": [
        {
          "output_type": "error",
          "ename": "IndexError",
          "evalue": "ignored",
          "traceback": [
            "\u001b[0;31m---------------------------------------------------------------------------\u001b[0m",
            "\u001b[0;31mIndexError\u001b[0m                                Traceback (most recent call last)",
            "\u001b[0;32m<ipython-input-43-85ba4973bfbb>\u001b[0m in \u001b[0;36m<module>\u001b[0;34m()\u001b[0m\n\u001b[0;32m----> 1\u001b[0;31m \u001b[0mstart\u001b[0m\u001b[0;34m(\u001b[0m\u001b[0;34m)\u001b[0m\u001b[0;34m\u001b[0m\u001b[0;34m\u001b[0m\u001b[0m\n\u001b[0m",
            "\u001b[0;32m<ipython-input-33-179a5eda5392>\u001b[0m in \u001b[0;36mstart\u001b[0;34m()\u001b[0m\n\u001b[1;32m      4\u001b[0m \u001b[0;34m\u001b[0m\u001b[0m\n\u001b[1;32m      5\u001b[0m   \u001b[0;31m# Randomly initialize a board\u001b[0m\u001b[0;34m\u001b[0m\u001b[0;34m\u001b[0m\u001b[0;34m\u001b[0m\u001b[0m\n\u001b[0;32m----> 6\u001b[0;31m   \u001b[0minit\u001b[0m \u001b[0;34m=\u001b[0m \u001b[0mBoard\u001b[0m\u001b[0;34m(\u001b[0m\u001b[0;36m5\u001b[0m\u001b[0;34m)\u001b[0m\u001b[0;34m\u001b[0m\u001b[0;34m\u001b[0m\u001b[0m\n\u001b[0m\u001b[1;32m      7\u001b[0m \u001b[0;34m\u001b[0m\u001b[0m\n\u001b[1;32m      8\u001b[0m   \u001b[0mperfect\u001b[0m \u001b[0;34m=\u001b[0m \u001b[0;36m0\u001b[0m\u001b[0;34m\u001b[0m\u001b[0;34m\u001b[0m\u001b[0m\n",
            "\u001b[0;32m/content/board.py\u001b[0m in \u001b[0;36m__init__\u001b[0;34m(self, n)\u001b[0m\n\u001b[1;32m     12\u001b[0m             \u001b[0mj\u001b[0m \u001b[0;34m=\u001b[0m \u001b[0mrandom\u001b[0m\u001b[0;34m.\u001b[0m\u001b[0mrandint\u001b[0m\u001b[0;34m(\u001b[0m\u001b[0;36m0\u001b[0m\u001b[0;34m,\u001b[0m \u001b[0mself\u001b[0m\u001b[0;34m.\u001b[0m\u001b[0mn_queen\u001b[0m \u001b[0;34m-\u001b[0m \u001b[0;36m1\u001b[0m\u001b[0;34m)\u001b[0m\u001b[0;34m\u001b[0m\u001b[0;34m\u001b[0m\u001b[0m\n\u001b[1;32m     13\u001b[0m             \u001b[0mself\u001b[0m\u001b[0;34m.\u001b[0m\u001b[0mmap\u001b[0m\u001b[0;34m[\u001b[0m\u001b[0mi\u001b[0m\u001b[0;34m]\u001b[0m\u001b[0;34m[\u001b[0m\u001b[0mj\u001b[0m\u001b[0;34m]\u001b[0m \u001b[0;34m=\u001b[0m \u001b[0;36m1\u001b[0m\u001b[0;34m\u001b[0m\u001b[0;34m\u001b[0m\u001b[0m\n\u001b[0;32m---> 14\u001b[0;31m             \u001b[0mself\u001b[0m\u001b[0;34m.\u001b[0m\u001b[0mencoding\u001b[0m\u001b[0;34m[\u001b[0m\u001b[0mi\u001b[0m\u001b[0;34m]\u001b[0m \u001b[0;34m=\u001b[0m \u001b[0mj\u001b[0m\u001b[0;34m\u001b[0m\u001b[0;34m\u001b[0m\u001b[0m\n\u001b[0m\u001b[1;32m     15\u001b[0m \u001b[0;34m\u001b[0m\u001b[0m\n\u001b[1;32m     16\u001b[0m     \u001b[0;32mdef\u001b[0m \u001b[0mfitness\u001b[0m\u001b[0;34m(\u001b[0m\u001b[0mself\u001b[0m\u001b[0;34m)\u001b[0m\u001b[0;34m:\u001b[0m\u001b[0;34m\u001b[0m\u001b[0;34m\u001b[0m\u001b[0m\n",
            "\u001b[0;31mIndexError\u001b[0m: list assignment index out of range"
          ]
        }
      ]
    }
  ]
}